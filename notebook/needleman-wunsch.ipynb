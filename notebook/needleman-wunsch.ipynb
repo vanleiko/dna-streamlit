{
 "metadata": {
  "language_info": {
   "codemirror_mode": {
    "name": "ipython",
    "version": 3
   },
   "file_extension": ".py",
   "mimetype": "text/x-python",
   "name": "python",
   "nbconvert_exporter": "python",
   "pygments_lexer": "ipython3",
   "version": "3.9.1"
  },
  "orig_nbformat": 2,
  "kernelspec": {
   "name": "python3",
   "display_name": "Python 3.9.1 64-bit ('venv_dna': venv)",
   "metadata": {
    "interpreter": {
     "hash": "d3834fb5dfba5e1864611caac33e2236e86433d815315c677fd76419d275d1d9"
    }
   }
  }
 },
 "nbformat": 4,
 "nbformat_minor": 2,
 "cells": [
  {
   "cell_type": "code",
   "execution_count": 1,
   "metadata": {},
   "outputs": [],
   "source": [
    "'''\n",
    "Retorna o maior valor do L\n",
    "'''\n",
    "\n",
    "def valor_maximo(c1, c2, lado, cima, diagonal):\n",
    "\n",
    "    # retorna o valor da diagonal superior esquerda + 1 \n",
    "    if (c1 == c2) and ((diagonal+1) > lado) and ((diagonal+1) > cima):\n",
    "        diagonal += 1\n",
    "        return diagonal\n",
    "\n",
    "    # retorna o valor do lado esquerdo\n",
    "    elif (lado > cima) and (lado > diagonal):\n",
    "        return lado\n",
    "  \n",
    "    # retorna o valor de cima\n",
    "    else:\n",
    "        return cima\n",
    "\n",
    "\n",
    "'''\n",
    "Retorna o ponteiro do maior valor do L\n",
    "'''\n",
    "\n",
    "def acha_caminho(c1, c2, lado, cima, diagonal):\n",
    "    # indica que o valor veio da diagonal esquerda superior\n",
    "    if (c1 == c2) and ((diagonal+1) > lado) and ((diagonal+1) > cima):\n",
    "        return \"\\\\\"\n",
    "\n",
    "    # indica que o valor veio do lado esquerdo\n",
    "    elif (lado > cima) and (lado > diagonal):\n",
    "        return \"-\"\n",
    "        \n",
    "    # indica que o valor veio de cima\n",
    "    else:\n",
    "        return \"|\"\n"
   ]
  },
  {
   "cell_type": "code",
   "execution_count": 2,
   "metadata": {},
   "outputs": [],
   "source": [
    "'''\n",
    "Montar as matrizes:\n",
    "- pontuacao (recebe os valores dos matches)\n",
    "- caminho (recebe o caminho percorrido na matriz de acordo com o maior valor)\n",
    "\n",
    "- seq1 fica na vertical, seq2 na horizontal\n",
    "'''\n",
    "\n",
    "def lcs(seq1, seq2):\n",
    "    pontuacao = []\n",
    "    caminho = []\n",
    "\n",
    "\n",
    "    # preencher as linhas da matriz\n",
    "    for i in range(0, len(seq1)):\n",
    "        pontuacao.append([0] * len(seq2))\n",
    "        caminho.append([\"\"] * len(seq2))\n",
    "\n",
    "    # preencher a primeira coluna com \"|\" e a primeira linha com \"-\" na matriz caminho\n",
    "    for i in range(0, len(seq1)):\n",
    "        caminho[i][0] = \"|\"\n",
    "    for j in range(0, len(seq2)):\n",
    "        caminho[0][j] = \"-\"\n",
    "\n",
    "    # percorre as linhas\n",
    "    for i in range(1, len(seq1)):\n",
    "\n",
    "        # percorre as colunas\n",
    "        for j in range(1, len(seq2)):\n",
    "\n",
    "        # preenche a matriz com o maior valor do L (lado, cima, diagonal)\n",
    "            pontuacao[i][j] = valor_maximo(seq2[j], seq1[i], pontuacao[i][j-1], pontuacao[i-1][j], pontuacao[i-1][j-1])\n",
    "\n",
    "        # preenche a matriz com a indicação de onde veio o maior valor do L (lado, cima, diagonal)\n",
    "            caminho[i][j] = acha_caminho(seq2[j], seq1[i], pontuacao[i][j-1], pontuacao[i-1][j], pontuacao[i-1][j-1])\n",
    "        \n",
    "    return pontuacao, caminho"
   ]
  },
  {
   "cell_type": "code",
   "execution_count": 3,
   "metadata": {},
   "outputs": [],
   "source": [
    "'''\n",
    "Imprimir a matriz\n",
    "'''\n",
    "\n",
    "def imprime_matriz(seq1, seq2, pontuacao, caminho):\n",
    "    print(\"\\t\", end=\"\")\n",
    "\n",
    "    # imprime os caracteres da sequencia 2 na linha superior (horizontal) \n",
    "    for j in range(0, len(seq2)):\n",
    "        print(seq2[j], end=\"\\t\")\n",
    "\n",
    "    print()\n",
    "\n",
    "    # imprime os caracteres da sequencia 1 na primeira coluna (vertical) e vai preenchendo as linhas com os valores\n",
    "    for i in range(0, len(seq1)):\n",
    "        print(seq1[i], end=\"\\t\")\n",
    "        for j in range(0, len(seq2)):\n",
    "            print(pontuacao[i][j], caminho[i][j], end=\"\\t\", sep=\"\")\n",
    "\n",
    "        print()\n",
    "    print()\n"
   ]
  },
  {
   "cell_type": "code",
   "execution_count": 4,
   "metadata": {},
   "outputs": [],
   "source": [
    "'''\n",
    "Alinha as sequências\n",
    "'''\n",
    "\n",
    "def gera_alinhamento(seq1, seq2, pontuacao, caminho):\n",
    "    ali_seq1 = \"\"\n",
    "    ali_seq2 = \"\"\n",
    "\n",
    "    # linhas\n",
    "    i = len(seq1)-1\n",
    "    # colunas\n",
    "    j = len(seq2)-1\n",
    "\n",
    "    while (i != 0) or (j != 0):\n",
    "        # \\\\ indica que houve um match (imprime o mesmo caracter nas duas seqências)\n",
    "        if caminho[i][j] == \"\\\\\":\n",
    "            ali_seq1 = seq1[i] + ali_seq1\n",
    "            ali_seq2 = seq2[j] + ali_seq2\n",
    "            i -= 1\n",
    "            j -= 1\n",
    "\n",
    "        # indical uma deleção na seq1 (imprime o caracter da seq2)\n",
    "        elif caminho[i][j] == \"-\":\n",
    "            ali_seq1 = \"-\" + ali_seq1\n",
    "            ali_seq2 = seq2[j] + ali_seq2\n",
    "            j -= 1\n",
    "            \n",
    "        # indical uma deleção na seq2 (imprime o caracter da seq1)\n",
    "        else:\n",
    "            ali_seq1 = seq1[i] + ali_seq1\n",
    "            ali_seq2 = \"-\" + ali_seq2\n",
    "            i -= 1\n",
    "\n",
    "    # imprime a pontuação (total de matches)\n",
    "    print(\"Matches =\", pontuacao[-1][-1])\n",
    "    # imprime o alinhamento\n",
    "    print(ali_seq2)\n",
    "    print(ali_seq1)      "
   ]
  },
  {
   "cell_type": "code",
   "execution_count": 5,
   "metadata": {},
   "outputs": [],
   "source": [
    "seq1 = \"AAATTTACGTGGTT\"\n",
    "seq2 = \"ACGTGT\"\n"
   ]
  },
  {
   "cell_type": "code",
   "execution_count": 6,
   "metadata": {},
   "outputs": [
    {
     "output_type": "stream",
     "name": "stdout",
     "text": [
      "\tA\tC\tG\tT\tG\tT\t\nA\t0-\t0-\t0-\t0-\t0-\t0-\t\nA\t0|\t0|\t0|\t0|\t0|\t0|\t\nA\t0|\t0|\t0|\t0|\t0|\t0|\t\nT\t0|\t0|\t0|\t1\\\t1-\t1-\t\nT\t0|\t0|\t0|\t1|\t1|\t2\\\t\nT\t0|\t0|\t0|\t1|\t1|\t2|\t\nA\t0|\t0|\t0|\t1|\t1|\t2|\t\nC\t0|\t1\\\t1-\t1|\t1|\t2|\t\nG\t0|\t1|\t2\\\t2-\t2-\t2|\t\nT\t0|\t1|\t2|\t3\\\t3-\t3-\t\nG\t0|\t1|\t2|\t3|\t4\\\t4-\t\nG\t0|\t1|\t2|\t3|\t4|\t4|\t\nT\t0|\t1|\t2|\t3|\t4|\t5\\\t\nT\t0|\t1|\t2|\t3|\t4|\t5|\t\n\nMatches = 5\n------CGTG-T-\nAATTTACGTGGTT\n"
     ]
    }
   ],
   "source": [
    "matriz_pontuacao, matriz_caminho = lcs(seq1, seq2)\n",
    "imprime_matriz(seq1, seq2, matriz_pontuacao, matriz_caminho)\n",
    "gera_alinhamento(seq1, seq2, matriz_pontuacao, matriz_caminho)"
   ]
  }
 ]
}