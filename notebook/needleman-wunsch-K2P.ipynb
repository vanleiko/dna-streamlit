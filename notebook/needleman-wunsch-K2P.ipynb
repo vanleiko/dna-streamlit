{
 "metadata": {
  "language_info": {
   "codemirror_mode": {
    "name": "ipython",
    "version": 3
   },
   "file_extension": ".py",
   "mimetype": "text/x-python",
   "name": "python",
   "nbconvert_exporter": "python",
   "pygments_lexer": "ipython3",
   "version": "3.9.1"
  },
  "orig_nbformat": 2,
  "kernelspec": {
   "name": "python3",
   "display_name": "Python 3.9.1 64-bit ('venv_dna': venv)",
   "metadata": {
    "interpreter": {
     "hash": "d3834fb5dfba5e1864611caac33e2236e86433d815315c677fd76419d275d1d9"
    }
   }
  }
 },
 "nbformat": 4,
 "nbformat_minor": 2,
 "cells": [
  {
   "source": [
    "## Matriz de substituição de nucleotídeos: modelo K2P de Kimura, 1980.\n",
    "\n",
    "### Calcula o scoring de substituição para match e mismatch entre as bases.\n",
    "\n",
    "Similaridade = recompensa de +4\n",
    "\n",
    "Transição = penalidade de -1\n",
    "\n",
    "Transversão = penalidade de -2\n",
    "\n",
    "\n",
    "```\n",
    "   A  C  G  T\n",
    "A  4 -2 -1 -2\n",
    "C -2  4 -2 -1\n",
    "G -1 -2  4 -2  \n",
    "T -2 -1 -2  4  \n",
    "\n",
    "```\n",
    "\n",
    "Inserção ou deleção de base (gap) = penalidade de -3"
   ],
   "cell_type": "markdown",
   "metadata": {}
  },
  {
   "cell_type": "code",
   "execution_count": 142,
   "metadata": {},
   "outputs": [],
   "source": [
    "# padronizar a sequência inserida pelo usuário (formato FASTA ou sequência livre de nucleotídeos).\n",
    "# insere um * no início da sequência para construçã da matriz para o alinhamento.\n",
    "\n",
    "def formata_sequencia(sequencia): \n",
    "    sequencia = sequencia.upper()\n",
    "        \n",
    "    if sequencia[0] == \">\":\n",
    "        sequencia = sequencia.splitlines()\n",
    "        sequencia = sequencia[1:]\n",
    "        sequencia = \"\".join(sequencia).strip()\n",
    "        sequencia = \"*\" + sequencia\n",
    "        \n",
    "    else:\n",
    "        sequencia = sequencia.splitlines()\n",
    "        sequencia = \"\".join(sequencia).strip()\n",
    "        sequencia = \"*\" + sequencia \n",
    "        \n",
    "    return sequencia\n"
   ]
  },
  {
   "cell_type": "code",
   "execution_count": 143,
   "metadata": {},
   "outputs": [],
   "source": [
    "# verifica se a sequência é de DNA\n",
    "\n",
    "def eh_dna(seq):\n",
    "    if set(seq).issubset({\"A\", \"C\", \"G\", \"T\", \"*\"}):\n",
    "        return True\n",
    "    else:\n",
    "        return False"
   ]
  },
  {
   "cell_type": "code",
   "execution_count": 144,
   "metadata": {},
   "outputs": [],
   "source": [
    "# criar a matriz de substituição\n",
    "\n",
    "def cria_matriz_subs():\n",
    "\n",
    "    matriz = {\"col\": [\"A\", \"C\", \"G\", \"T\"],\n",
    "                \"A\": [4, -2, -1, -2],\n",
    "                \"C\": [-2, 4, -2, -1],\n",
    "                \"G\": [-1, -2, 4, -2],\n",
    "                \"T\": [-2, -1, -2, 4]}\n",
    "\n",
    "    return matriz"
   ]
  },
  {
   "cell_type": "code",
   "execution_count": 145,
   "metadata": {},
   "outputs": [],
   "source": [
    "# retorna o score do match ou mismatch entre 2 bases pareadas\n",
    "\n",
    "def calcula_score(base1, base2, matriz_subs):\n",
    "\n",
    "    j = matriz_subs[\"col\"].index(base1)\n",
    "    for base in \"ACGT\":\n",
    "        if base2 == base:\n",
    "            score = matriz_subs[base2][j]\n",
    "\n",
    "            return score"
   ]
  },
  {
   "cell_type": "code",
   "execution_count": 146,
   "metadata": {},
   "outputs": [],
   "source": [
    "# retorna o maior valor do L \n",
    "\n",
    "def valor_maximo(base1, base2, lado, cima, diagonal):\n",
    "    # match\n",
    "    if (base1 == base2) and (diagonal > lado) and (diagonal > cima):\n",
    "        return diagonal\n",
    "    # mismatch\n",
    "    elif (base1 != base2) and (diagonal >= lado) and (diagonal >= cima):\n",
    "        return diagonal\n",
    "    # gap\n",
    "    elif (lado > cima) and (lado > diagonal):\n",
    "        return lado\n",
    "    # gap\n",
    "    else:\n",
    "        return cima"
   ]
  },
  {
   "cell_type": "code",
   "execution_count": 147,
   "metadata": {},
   "outputs": [
    {
     "output_type": "stream",
     "name": "stdout",
     "text": [
      "\t*\tA\tT\tC\tG\tA\t\n*\t0-\t-3-\t-6-\t-9-\t-12-\t-15-\t\nA\t-3|\t4\\\t1-\t-2-\t-5-\t-18|\t\nA\t-6|\t1|\t2\\\t-1|\t-3\\\t-1\\\t\nC\t-9|\t-2|\t0\\\t6\\\t3-\t0-\t\nG\t-12|\t-5|\t-3|\t3|\t10\\\t7-\t\nG\t-15|\t-8|\t-6|\t0|\t7|\t9\\\t\nG\t-18|\t-11|\t-9|\t-3|\t4|\t6|\t\nA\t-21|\t-14|\t-12|\t-6|\t1|\t8\\\t\n\n"
     ]
    }
   ],
   "source": [
    "imprime_matriz(seq1, seq2, matriz_pontuacao, matriz_caminho)"
   ]
  },
  {
   "cell_type": "code",
   "execution_count": 148,
   "metadata": {},
   "outputs": [],
   "source": [
    "# retorna de onde veio o maior valor do L\n",
    "\n",
    "def cria_caminho(base1, base2, lado, cima, diagonal):\n",
    "    # match\n",
    "    if (base1 == base2) and (diagonal > lado) and (diagonal > cima):\n",
    "        return \"\\\\\"\n",
    "    # mismatch\n",
    "    elif (base1 != base2) and (diagonal > lado) and (diagonal > cima):\n",
    "        return \"\\\\\"\n",
    "    # gap\n",
    "    elif (lado > cima) and (lado > diagonal):\n",
    "        return \"-\"\n",
    "    # gap\n",
    "    else:\n",
    "        return \"|\""
   ]
  },
  {
   "cell_type": "code",
   "execution_count": 149,
   "metadata": {},
   "outputs": [],
   "source": [
    "# lcs = longest common subsequence\n",
    "# montar 2 matrizes:\n",
    "# pontuacao: receberá a pontuação (score) de cada par de base analisado\n",
    "# caminho: recebe o caminho do qual a pontuação veio\n",
    "\n",
    "def lcs(seq1, seq2, matriz_subs):\n",
    "\n",
    "    pontuacao = []\n",
    "    caminho = []\n",
    "    g = -3\n",
    "\n",
    "    # preencher a matriz\n",
    "    for i in range(0, len(seq1)):\n",
    "        pontuacao.append([0] * len(seq2))\n",
    "        caminho.append([\"\"] * len(seq2))\n",
    "\n",
    "    # preencher a primeira coluna \n",
    "    for i in range(0, len(seq1)):\n",
    "        pontuacao[i][0] = -3 * i\n",
    "        caminho[i][0] = \"|\"\n",
    "    # preenche a primeira linha\n",
    "    for j in range(0, len(seq2)):\n",
    "        pontuacao[0][j] = -3 * j\n",
    "        caminho[0][j] = \"-\"\n",
    "\n",
    "    # linha\n",
    "    for i in range(1, len(seq1)):\n",
    "        # coluna\n",
    "        for j in range(1, len(seq2)):\n",
    "        # devolver a valor maximo do L\n",
    "\n",
    "            base1 = seq1[i]\n",
    "            base2 = seq2[j] \n",
    "\n",
    "            # calcula o score (match e mismatch)\n",
    "            s = calcula_score(base1, base2, matriz_subs)\n",
    "            \n",
    "            lado = pontuacao[i][j-1]\n",
    "            cima = pontuacao[i-1][j]\n",
    "            diagonal = pontuacao[i-1][j-1]\n",
    "                                    \n",
    "            pontuacao[i][j] = valor_maximo(base1, base2, lado + g, cima + g, diagonal + s)\n",
    "            caminho[i][j] = cria_caminho(base1, base2, lado + g, cima + g, diagonal + s)\n",
    "\n",
    "    return pontuacao, caminho"
   ]
  },
  {
   "cell_type": "code",
   "execution_count": 150,
   "metadata": {},
   "outputs": [],
   "source": [
    "# imprime a matriz com a pontuação e o caminho\n",
    "\n",
    "def imprime_matriz(seq1, seq2, matriz_pontuacao, matriz_caminho):\n",
    "\n",
    "    print(\"\\t\", end=\"\")\n",
    "\n",
    "    for j in range(0, len(seq2)):\n",
    "        print(seq2[j], end=\"\\t\")\n",
    "    print()\n",
    "    for i in range(0, len(seq1)):\n",
    "        print(seq1[i], end=\"\\t\")\n",
    "\n",
    "        for j in range(0, len(seq2)):\n",
    "            print(matriz_pontuacao[i][j], matriz_caminho[i][j], end=\"\\t\", sep=\"\")\n",
    "        print()\n",
    "    print()"
   ]
  },
  {
   "cell_type": "code",
   "execution_count": 151,
   "metadata": {},
   "outputs": [],
   "source": [
    "# imprime o alinhamento ótimo entre as sequências\n",
    "\n",
    "def gera_alinhamento(seq1, seq2, ponteiros, matriz_subs):\n",
    "    \n",
    "    ali_seq1 = \"\"\n",
    "    ali_seq2 = \"\"\n",
    "    \n",
    "    match = 0\n",
    "    mismatch = 0\n",
    "    gap = 0\n",
    "    score_final = 0\n",
    "    g = -3\n",
    "\n",
    "    # linhas\n",
    "    i = len(seq1)-1\n",
    "    # colunas\n",
    "    j = len(seq2)-1\n",
    "\n",
    "    while (i != 0) or (j != 0):\n",
    "\n",
    "        s = calcula_score(seq1[i], seq2[j], matriz_subs)\n",
    "\n",
    "        if matriz_caminho[i][j] == \"\\\\\" and seq1[i] == seq2[j]:\n",
    "            ali_seq1 = seq1[i] + ali_seq1\n",
    "            ali_seq2 = seq2[j] + ali_seq2\n",
    "            match += 1\n",
    "            score_final += s\n",
    "            i -= 1\n",
    "            j -= 1\n",
    "\n",
    "        elif matriz_caminho[i][j] == \"\\\\\" and seq1[i] != seq2[j]:\n",
    "            ali_seq1 = seq1[i] + ali_seq1\n",
    "            ali_seq2 = seq2[j] + ali_seq2\n",
    "            mismatch += 1\n",
    "            score_final += s\n",
    "            i -= 1\n",
    "            j -= 1    \n",
    "    \n",
    "        elif matriz_caminho[i][j] == \"-\":\n",
    "            ali_seq1 = \"-\" + ali_seq1\n",
    "            ali_seq2 = seq2[j] + ali_seq2\n",
    "            gap += 1\n",
    "            score_final += g\n",
    "            j -= 1\n",
    "    \n",
    "        elif matriz_caminho[i][j] == \"|\":\n",
    "            ali_seq1 = seq1[i] + ali_seq1\n",
    "            ali_seq2 = \"-\" + ali_seq2\n",
    "            gap += 1\n",
    "            score_final += g\n",
    "            i -= 1\n",
    "\n",
    "    print(ali_seq1)  \n",
    "    print(ali_seq2) \n",
    "    print()\n",
    "    print(f\"Matches = {match}\")\n",
    "    print(f\"Mismatches = {mismatch}\")\n",
    "    print(f\"Gaps = {gap}\")\n",
    "    print(f\"Score final = {score_final}\") "
   ]
  },
  {
   "cell_type": "code",
   "execution_count": 155,
   "metadata": {},
   "outputs": [],
   "source": [
    "seqA = \"AAATTTACGTGGTT\"\n",
    "seqB = \"ACGTGT\"\n",
    "\n",
    "seq1 = formata_sequencia(seqA)\n",
    "seq2 = formata_sequencia(seqB)"
   ]
  },
  {
   "cell_type": "code",
   "execution_count": 156,
   "metadata": {},
   "outputs": [
    {
     "output_type": "stream",
     "name": "stdout",
     "text": [
      "AAATTTACGTGGTT\nA------CGTG-T-\n\nMatches = 6\nMismatches = 0\nGaps = 8\nScore final = 0\n"
     ]
    }
   ],
   "source": [
    "matriz_subs = cria_matriz_subs()\n",
    "matriz_pontuacao, matriz_caminho = lcs(seq1, seq2, matriz_subs)\n",
    "gera_alinhamento(seq1, seq2, matriz_caminho, matriz_subs)"
   ]
  },
  {
   "cell_type": "code",
   "execution_count": 157,
   "metadata": {},
   "outputs": [
    {
     "output_type": "stream",
     "name": "stdout",
     "text": [
      "\t*\tA\tC\tG\tT\tG\tT\t\n*\t0-\t-3-\t-6-\t-9-\t-12-\t-15-\t-18-\t\nA\t-3|\t4\\\t1-\t-2-\t-5-\t-8-\t-11-\t\nA\t-6|\t1|\t2\\\t0\\\t-3-\t-6|\t-9-\t\nA\t-9|\t-2|\t-1|\t1\\\t-2|\t-4\\\t-7-\t\nT\t-12|\t-5|\t-3\\\t-2|\t5\\\t2-\t0\\\t\nT\t-15|\t-8|\t-6|\t-5|\t2|\t3\\\t6\\\t\nT\t-18|\t-11|\t-9|\t-8|\t-1|\t0|\t7\\\t\nA\t-21|\t-14|\t-12|\t-10\\\t-4|\t-2\\\t4|\t\nC\t-24|\t-17|\t-10\\\t-13|\t-7|\t-5|\t1|\t\nG\t-27|\t-20|\t-13|\t-6\\\t-9-\t-3\\\t-2|\t\nT\t-30|\t-23|\t-16|\t-9|\t-2\\\t-5-\t1\\\t\nG\t-33|\t-26|\t-19|\t-12|\t-5|\t2\\\t-1-\t\nG\t-36|\t-29|\t-22|\t-15|\t-8|\t-1|\t0\\\t\nT\t-39|\t-32|\t-25|\t-18|\t-11|\t-4|\t3\\\t\nT\t-42|\t-35|\t-28|\t-21|\t-14|\t-7|\t0|\t\n\n"
     ]
    }
   ],
   "source": [
    "imprime_matriz(seq1, seq2, matriz_pontuacao, matriz_caminho)"
   ]
  },
  {
   "cell_type": "code",
   "execution_count": null,
   "metadata": {},
   "outputs": [],
   "source": []
  }
 ]
}