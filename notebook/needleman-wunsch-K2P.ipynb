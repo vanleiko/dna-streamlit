{
 "metadata": {
  "language_info": {
   "codemirror_mode": {
    "name": "ipython",
    "version": 3
   },
   "file_extension": ".py",
   "mimetype": "text/x-python",
   "name": "python",
   "nbconvert_exporter": "python",
   "pygments_lexer": "ipython3",
   "version": "3.9.1"
  },
  "orig_nbformat": 2,
  "kernelspec": {
   "name": "python391jvsc74a57bd0f590536598b249c76a56afcc0e4a9525a2a7168e83143d1960f7065c3e4f0ea7",
   "display_name": "Python 3.9.1 64-bit"
  }
 },
 "nbformat": 4,
 "nbformat_minor": 2,
 "cells": [
  {
   "source": [
    "## Matriz de substituição de nucleotídeos: modelo K2P de Kimura, 1980.\n",
    "\n",
    "### Calcula o scoring de substituição para match e mismatch entre as bases.\n",
    "\n",
    "Similaridade = recompensa de +4\n",
    "\n",
    "Transição = penalidade de -1\n",
    "\n",
    "Transversão = penalidade de -2\n",
    "\n",
    "\n",
    "```\n",
    "   A  C  G  T\n",
    "A  4 -2 -1 -2\n",
    "C -2  4 -2 -1\n",
    "G -1 -2  4 -2  \n",
    "T -2 -1 -2  4  \n",
    "\n",
    "```\n",
    "\n",
    "Inserção ou deleção de base (gap) = penalidade de -3"
   ],
   "cell_type": "markdown",
   "metadata": {}
  },
  {
   "cell_type": "code",
   "execution_count": 19,
   "metadata": {},
   "outputs": [],
   "source": [
    "# padronizar a sequência inserida pelo usuário (formato FASTA ou sequência livre de nucleotídeos).\n",
    "# insere um * no início da sequência para construçã da matriz para o alinhamento.\n",
    "\n",
    "def formata_sequencia(sequencia): \n",
    "    sequencia = sequencia.upper()\n",
    "        \n",
    "    if sequencia[0] == \">\":\n",
    "        sequencia = sequencia.splitlines()\n",
    "        sequencia = sequencia[1:]\n",
    "        sequencia = \"\".join(sequencia).strip()\n",
    "        sequencia = \"*\" + sequencia\n",
    "        \n",
    "    else:\n",
    "        sequencia = sequencia.splitlines()\n",
    "        sequencia = \"\".join(sequencia).strip()\n",
    "        sequencia = \"*\" + sequencia \n",
    "        \n",
    "    return sequencia\n"
   ]
  },
  {
   "cell_type": "code",
   "execution_count": 20,
   "metadata": {},
   "outputs": [],
   "source": [
    "# verifica se a sequência é de DNA\n",
    "\n",
    "def eh_dna(seq):\n",
    "    if set(seq).issubset({\"A\", \"C\", \"G\", \"T\", \"*\"}):\n",
    "        return True\n",
    "    else:\n",
    "        return False"
   ]
  },
  {
   "cell_type": "code",
   "execution_count": 21,
   "metadata": {},
   "outputs": [],
   "source": [
    "# criar a matriz de substituição\n",
    "\n",
    "def cria_matriz_subs():\n",
    "\n",
    "    matriz = {\"col\": [\"A\", \"C\", \"G\", \"T\"],\n",
    "                \"A\": [4, -2, -1, -2],\n",
    "                \"C\": [-2, 4, -2, -1],\n",
    "                \"G\": [-1, -2, 4, -2],\n",
    "                \"T\": [-2, -1, -2, 4]}\n",
    "\n",
    "    return matriz"
   ]
  },
  {
   "cell_type": "code",
   "execution_count": 22,
   "metadata": {},
   "outputs": [],
   "source": [
    "# retorna o score do match ou mismatch entre 2 bases pareadas\n",
    "\n",
    "def calcula_score(base1, base2, matriz_subs):\n",
    "\n",
    "    j = matriz_subs[\"col\"].index(base1)\n",
    "    for base in \"ACGT\":\n",
    "        if base2 == base:\n",
    "            score = matriz_subs[base2][j]\n",
    "\n",
    "            return score"
   ]
  },
  {
   "cell_type": "code",
   "execution_count": 23,
   "metadata": {},
   "outputs": [],
   "source": [
    "# retorna o maior valor do L \n",
    "\n",
    "def valor_maximo(base1, base2, lado, cima, diagonal):\n",
    "    # match\n",
    "    if (base1 == base2) and (diagonal > lado) and (diagonal > cima):\n",
    "        return diagonal\n",
    "    # mismatch\n",
    "    elif (base1 != base2) and (diagonal > lado) and (diagonal > cima):\n",
    "        return diagonal\n",
    "    # gap\n",
    "    elif (lado > cima) and (lado > diagonal):\n",
    "        return lado\n",
    "    # gap\n",
    "    else:\n",
    "        return cima"
   ]
  },
  {
   "cell_type": "code",
   "execution_count": 24,
   "metadata": {},
   "outputs": [],
   "source": [
    "# retorna de onde veio o maior valor do L\n",
    "\n",
    "def cria_caminho(base1, base2, lado, cima, diagonal):\n",
    "    # match\n",
    "    if (base1 == base2) and (diagonal > lado) and (diagonal > cima):\n",
    "        return \"\\\\\"\n",
    "    # mismatch\n",
    "    elif (base1 != base2) and (diagonal > lado) and (diagonal > cima):\n",
    "        return \"\\\\\"\n",
    "    # gap\n",
    "    elif (lado > cima) and (lado > diagonal):\n",
    "        return \"-\"\n",
    "    # gap\n",
    "    else:\n",
    "        return \"|\""
   ]
  },
  {
   "cell_type": "code",
   "execution_count": 25,
   "metadata": {},
   "outputs": [],
   "source": [
    "# lcs = longest common subsequence\n",
    "# montar 2 matrizes:\n",
    "# pontuacao: receberá a pontuação (score) de cada par de base analisado\n",
    "# caminho: recebe o caminho do qual a pontuação veio\n",
    "\n",
    "def lcs(seq1, seq2, matriz_subs):\n",
    "\n",
    "    pontuacao = []\n",
    "    caminho = []\n",
    "    g = -3\n",
    "\n",
    "    # preencher a matriz\n",
    "    for i in range(0, len(seq1)):\n",
    "        pontuacao.append([0] * len(seq2))\n",
    "        caminho.append([\"\"] * len(seq2))\n",
    "\n",
    "    # preencher a primeira coluna \n",
    "    for i in range(0, len(seq1)):\n",
    "        pontuacao[i][0] = -3 * i\n",
    "        caminho[i][0] = \"|\"\n",
    "    # preenche a primeira linha\n",
    "    for j in range(0, len(seq2)):\n",
    "        pontuacao[0][j] = -3 * j\n",
    "        caminho[0][j] = \"-\"\n",
    "\n",
    "    # linha\n",
    "    for i in range(1, len(seq1)):\n",
    "        # coluna\n",
    "        for j in range(1, len(seq2)):\n",
    "        # devolver a valor maximo do L\n",
    "\n",
    "            base1 = seq1[i]\n",
    "            base2 = seq2[j] \n",
    "\n",
    "            # calcula o score (match e mismatch)\n",
    "            s = calcula_score(base1, base2, matriz_subs)\n",
    "            \n",
    "            lado = pontuacao[i][j-1]\n",
    "            cima = pontuacao[i-1][j]\n",
    "            diagonal = pontuacao[i-1][j-1]\n",
    "                                    \n",
    "            pontuacao[i][j] = valor_maximo(base1, base2, lado + g, cima + g, diagonal + s)\n",
    "            caminho[i][j] = cria_caminho(base1, base2, lado + g, cima + g, diagonal + s)\n",
    "\n",
    "    return pontuacao, caminho"
   ]
  },
  {
   "cell_type": "code",
   "execution_count": 26,
   "metadata": {},
   "outputs": [],
   "source": [
    "# imprime a matriz com a pontuação e o caminho\n",
    "\n",
    "def imprime_matriz(seq1, seq2, matriz_pontuacao, matriz_caminho):\n",
    "\n",
    "    print(\"\\t\", end=\"\")\n",
    "\n",
    "    for j in range(0, len(seq2)):\n",
    "        print(seq2[j], end=\"\\t\")\n",
    "    print()\n",
    "    for i in range(0, len(seq1)):\n",
    "        print(seq1[i], end=\"\\t\")\n",
    "\n",
    "        for j in range(0, len(seq2)):\n",
    "            print(matriz_pontuacao[i][j], matriz_caminho[i][j], end=\"\\t\", sep=\"\")\n",
    "        print()\n",
    "    print()"
   ]
  },
  {
   "cell_type": "code",
   "execution_count": 27,
   "metadata": {},
   "outputs": [],
   "source": [
    "# imprime o alinhamento ótimo entre as sequências\n",
    "\n",
    "def gera_alinhamento(seq1, seq2, ponteiros, matriz_subs):\n",
    "    \n",
    "    ali_seq1 = \"\"\n",
    "    ali_seq2 = \"\"\n",
    "    \n",
    "    match = 0\n",
    "    mismatch = 0\n",
    "    gap = 0\n",
    "    score_final = 0\n",
    "    g = -3\n",
    "\n",
    "    # linhas\n",
    "    i = len(seq1)-1\n",
    "    # colunas\n",
    "    j = len(seq2)-1\n",
    "\n",
    "    while (i != 0) or (j != 0):\n",
    "\n",
    "        s = calcula_score(seq1[i], seq2[j], matriz_subs)\n",
    "\n",
    "        if matriz_caminho[i][j] == \"\\\\\" and seq1[i] == seq2[j]:\n",
    "            ali_seq1 = seq1[i] + ali_seq1\n",
    "            ali_seq2 = seq2[j] + ali_seq2\n",
    "            match += 1\n",
    "            score_final += s\n",
    "            i -= 1\n",
    "            j -= 1\n",
    "\n",
    "        elif matriz_caminho[i][j] == \"\\\\\" and seq1[i] != seq2[j]:\n",
    "            ali_seq1 = seq1[i] + ali_seq1\n",
    "            ali_seq2 = seq2[j] + ali_seq2\n",
    "            mismatch += 1\n",
    "            score_final += s\n",
    "            i -= 1\n",
    "            j -= 1    \n",
    "    \n",
    "        elif matriz_caminho[i][j] == \"-\":\n",
    "            ali_seq1 = \"-\" + ali_seq1\n",
    "            ali_seq2 = seq2[j] + ali_seq2\n",
    "            gap += 1\n",
    "            score_final += g\n",
    "            j -= 1\n",
    "    \n",
    "        elif matriz_caminho[i][j] == \"|\":\n",
    "            ali_seq1 = seq1[i] + ali_seq1\n",
    "            ali_seq2 = \"-\" + ali_seq2\n",
    "            gap += 1\n",
    "            score_final += g\n",
    "            i -= 1\n",
    "\n",
    "    print(ali_seq1)  \n",
    "    print(ali_seq2) \n",
    "    print()\n",
    "    print(f\"Matches = {match}\")\n",
    "    print(f\"Mismatches = {mismatch}\")\n",
    "    print(f\"Gaps = {gap}\")\n",
    "    print(f\"Score final = {score_final}\") "
   ]
  },
  {
   "cell_type": "code",
   "execution_count": 28,
   "metadata": {},
   "outputs": [],
   "source": [
    "seqA = \"AATCGATCGAAT\"\n",
    "seqB = \"AACTCGACGCT\"\n",
    "\n",
    "seq1 = formata_sequencia(seqA)\n",
    "seq2 = formata_sequencia(seqB)"
   ]
  },
  {
   "cell_type": "code",
   "execution_count": 29,
   "metadata": {},
   "outputs": [
    {
     "output_type": "stream",
     "name": "stdout",
     "text": [
      "AA-TCGATCGAAT\nAACTCGA-CGC-T\n\nMatches = 9\nMismatches = 1\nGaps = 3\nScore final = 25\n"
     ]
    }
   ],
   "source": [
    "matriz_subs = cria_matriz_subs()\n",
    "matriz_pontuacao, matriz_caminho = lcs(seq1, seq2, matriz_subs)\n",
    "gera_alinhamento(seq1, seq2, matriz_caminho, matriz_subs)"
   ]
  },
  {
   "cell_type": "code",
   "execution_count": 30,
   "metadata": {},
   "outputs": [
    {
     "output_type": "stream",
     "name": "stdout",
     "text": [
      "\t*\tA\tA\tC\tT\tC\tG\tA\tC\tG\tC\tT\t\n*\t0-\t-3-\t-6-\t-9-\t-12-\t-15-\t-18-\t-21-\t-24-\t-27-\t-30-\t-33-\t\nA\t-3|\t4\\\t-9|\t-8\\\t-15|\t-14\\\t-16\\\t-14\\\t-17-\t-20-\t-23-\t-26-\t\nA\t-6|\t1|\t8\\\t5-\t2-\t-1-\t-4-\t-7-\t-10-\t-13-\t-16-\t-19-\t\nT\t-9|\t-2|\t5|\t7\\\t9\\\t6-\t3-\t0-\t-3-\t-6-\t-9-\t-22|\t\nC\t-12|\t-5|\t2|\t9\\\t6|\t13\\\t10-\t7-\t-6|\t-5\\\t-2\\\t-5-\t\nG\t-15|\t-8|\t-1|\t6|\t7\\\t10|\t17\\\t14-\t11-\t8-\t5-\t2-\t\nA\t-18|\t-11|\t-4|\t3|\t4|\t7|\t14|\t21\\\t18-\t15-\t12-\t9-\t\nT\t-21|\t-14|\t-7|\t0|\t7\\\t4|\t11|\t18|\t20\\\t17-\t9|\t16\\\t\nC\t-24|\t-17|\t-10|\t-3|\t4|\t11\\\t8|\t15|\t22\\\t19-\t21\\\t18-\t\nG\t-27|\t-20|\t-13|\t-6|\t1|\t8|\t15\\\t12|\t19|\t26\\\t23-\t20-\t\nA\t-30|\t-23|\t-16|\t-9|\t-2|\t5|\t12|\t19\\\t16|\t23|\t24\\\t17|\t\nA\t-33|\t-26|\t-19|\t-12|\t-5|\t2|\t9|\t16|\t17\\\t20|\t21|\t22\\\t\nT\t-36|\t-29|\t-22|\t-15|\t-8|\t-1|\t6|\t13|\t15\\\t17|\t19\\\t25\\\t\n\n"
     ]
    }
   ],
   "source": [
    "imprime_matriz(seq1, seq2, matriz_pontuacao, matriz_caminho)"
   ]
  }
 ]
}